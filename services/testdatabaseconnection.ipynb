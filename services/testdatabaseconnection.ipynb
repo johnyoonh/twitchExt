{
 "cells": [
  {
   "cell_type": "code",
   "execution_count": 75,
   "metadata": {},
   "outputs": [],
   "source": [
    "import sqlite3\n",
    "import pandas as pd\n",
    "import algorithm\n",
    "from numpy.random import choice\n",
    "import random"
   ]
  },
  {
   "cell_type": "code",
   "execution_count": 17,
   "metadata": {
    "collapsed": true
   },
   "outputs": [],
   "source": [
    "conn = sqlite3.connect('test.db')\n",
    "c = conn.cursor()\n",
    "c.execute(\"create table test(id, title, duration, explicitContent, popularity);\")\n",
    "c.execute(\"insert into test(id, title, duration, explicitContent, popularity) values ('249248', 'Finale', '350', 'false', '0.1')\")\n",
    "c.execute(\"insert into test(id, title, duration, explicitContent, popularity) values ('249258', 'Finale', '350', 'false', '0.3')\")\n",
    "conn.commit()"
   ]
  },
  {
   "cell_type": "code",
   "execution_count": 55,
   "metadata": {},
   "outputs": [
    {
     "data": {
      "text/plain": [
       "[0.1, 0.3]"
      ]
     },
     "execution_count": 55,
     "metadata": {},
     "output_type": "execute_result"
    }
   ],
   "source": [
    "c.execute('SELECT id, popularity FROM test')\n",
    "test = c.fetchall()\n",
    "[float(x[1]) for x in test]"
   ]
  },
  {
   "cell_type": "code",
   "execution_count": 64,
   "metadata": {},
   "outputs": [],
   "source": [
    "def normalize(val):\n",
    "    vals = [float(x[1]) for x in val]\n",
    "    return [int(x[0]) for x in val],[x / sum(vals) for x in vals]"
   ]
  },
  {
   "cell_type": "code",
   "execution_count": 65,
   "metadata": {},
   "outputs": [
    {
     "data": {
      "text/plain": [
       "([249248, 249258], [0.25, 0.7499999999999999])"
      ]
     },
     "execution_count": 65,
     "metadata": {},
     "output_type": "execute_result"
    }
   ],
   "source": [
    "normalize(test)"
   ]
  },
  {
   "cell_type": "code",
   "execution_count": 79,
   "metadata": {
    "collapsed": true
   },
   "outputs": [],
   "source": [
    "genres = {\"Hip Hop\": [11111, 22222, 33333, 44444], \"Jazz\": [55555, 66666, 77777, 88888, 99999]}\n",
    "artist_priorities = {\"Hip Hop\": [.2, .4, .1, .3], \"Jazz\": [.1, .2, .3, .2, .2]}\n",
    "\n",
    "artists = {11111: [0000, 1111, 2222, 3333, 4444], 22222: [5555, 6666, 7777, 8888]}\n",
    "track_priorities = {11111: [.1, .2, .3, .2, .2], 22222: [.1, .1, .4, .4]}\n",
    "last_10_songs = []\n",
    "\n",
    "def get_random_genres():\n",
    "    genre1 = random.choice(list(genres.keys()))\n",
    "    genre2 = random.choice(list(genres.keys()))\n",
    "    while genre2 == genre1:\n",
    "        genre2 = random.choice(list(genres.keys()))\n",
    "        return genre1, genre2\n",
    "\n",
    "def get_random_genre(other_genre):\n",
    "    genre = random.choice(list(genres.keys()))\n",
    "    while genre == other_genre:\n",
    "        genre = random.choice(list(genres.keys()))\n",
    "    return genre\n",
    "\n",
    "def get_random_artists(genre):\n",
    "    genre_artists = genres[genre]\n",
    "    artist1 = choice(genre_artists, 1, p=artist_priorities[genre], replace=False)\n",
    "    artist2 = choice(genre_artists, 1, p=artist_priorities[genre], replace=False)\n",
    "\n",
    "    while artist1 == artist2:\n",
    "        artist2 = choice(genre_artists, 1, p=artist_priorities[genre], replace=False)\n",
    "    return artist1[0], artist2[0]"
   ]
  },
  {
   "cell_type": "code",
   "execution_count": 80,
   "metadata": {},
   "outputs": [],
   "source": [
    "genres[\"Hip Hop\"], artist_priorities[\"Hip Hop\"] = normalize(test)"
   ]
  },
  {
   "cell_type": "code",
   "execution_count": 81,
   "metadata": {},
   "outputs": [
    {
     "data": {
      "text/plain": [
       "{'Hip Hop': [249248, 249258], 'Jazz': [55555, 66666, 77777, 88888, 99999]}"
      ]
     },
     "execution_count": 81,
     "metadata": {},
     "output_type": "execute_result"
    }
   ],
   "source": [
    "genres"
   ]
  },
  {
   "cell_type": "code",
   "execution_count": 78,
   "metadata": {},
   "outputs": [
    {
     "ename": "NameError",
     "evalue": "name 'priorities' is not defined",
     "output_type": "error",
     "traceback": [
      "\u001b[0;31m---------------------------------------------------------------------------\u001b[0m",
      "\u001b[0;31mNameError\u001b[0m                                 Traceback (most recent call last)",
      "\u001b[0;32m<ipython-input-78-5ea7f488f6a1>\u001b[0m in \u001b[0;36m<module>\u001b[0;34m()\u001b[0m\n\u001b[0;32m----> 1\u001b[0;31m \u001b[0mget_random_artists\u001b[0m\u001b[0;34m(\u001b[0m\u001b[0;34m\"Hip Hop\"\u001b[0m\u001b[0;34m)\u001b[0m\u001b[0;34m\u001b[0m\u001b[0m\n\u001b[0m",
      "\u001b[0;32m<ipython-input-77-8123af63535b>\u001b[0m in \u001b[0;36mget_random_artists\u001b[0;34m(genre)\u001b[0m\n\u001b[1;32m     25\u001b[0m \u001b[0;34m\u001b[0m\u001b[0m\n\u001b[1;32m     26\u001b[0m     \u001b[0;32mwhile\u001b[0m \u001b[0martist1\u001b[0m \u001b[0;34m==\u001b[0m \u001b[0martist2\u001b[0m\u001b[0;34m:\u001b[0m\u001b[0;34m\u001b[0m\u001b[0m\n\u001b[0;32m---> 27\u001b[0;31m         \u001b[0martist2\u001b[0m \u001b[0;34m=\u001b[0m \u001b[0mchoice\u001b[0m\u001b[0;34m(\u001b[0m\u001b[0mgenre_artists\u001b[0m\u001b[0;34m,\u001b[0m \u001b[0;36m1\u001b[0m\u001b[0;34m,\u001b[0m \u001b[0mp\u001b[0m\u001b[0;34m=\u001b[0m\u001b[0mpriorities\u001b[0m\u001b[0;34m[\u001b[0m\u001b[0mgenre\u001b[0m\u001b[0;34m]\u001b[0m\u001b[0;34m,\u001b[0m \u001b[0mreplace\u001b[0m\u001b[0;34m=\u001b[0m\u001b[0;32mFalse\u001b[0m\u001b[0;34m)\u001b[0m\u001b[0;34m\u001b[0m\u001b[0m\n\u001b[0m\u001b[1;32m     28\u001b[0m     \u001b[0;32mreturn\u001b[0m \u001b[0martist1\u001b[0m\u001b[0;34m[\u001b[0m\u001b[0;36m0\u001b[0m\u001b[0;34m]\u001b[0m\u001b[0;34m,\u001b[0m \u001b[0martist2\u001b[0m\u001b[0;34m[\u001b[0m\u001b[0;36m0\u001b[0m\u001b[0;34m]\u001b[0m\u001b[0;34m\u001b[0m\u001b[0m\n",
      "\u001b[0;31mNameError\u001b[0m: name 'priorities' is not defined"
     ]
    }
   ],
   "source": [
    "get_random_artists(\"Hip Hop\")"
   ]
  },
  {
   "cell_type": "code",
   "execution_count": null,
   "metadata": {
    "collapsed": true
   },
   "outputs": [],
   "source": []
  }
 ],
 "metadata": {
  "kernelspec": {
   "display_name": "Python 3",
   "language": "python",
   "name": "python3"
  },
  "language_info": {
   "codemirror_mode": {
    "name": "ipython",
    "version": 3
   },
   "file_extension": ".py",
   "mimetype": "text/x-python",
   "name": "python",
   "nbconvert_exporter": "python",
   "pygments_lexer": "ipython3",
   "version": "3.6.3"
  }
 },
 "nbformat": 4,
 "nbformat_minor": 2
}
