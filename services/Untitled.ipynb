{
 "cells": [
  {
   "cell_type": "code",
   "execution_count": 40,
   "metadata": {},
   "outputs": [],
   "source": [
    "import pandas as pd\n",
    "import numpy as np\n",
    "import wikipedia"
   ]
  },
  {
   "cell_type": "code",
   "execution_count": 41,
   "metadata": {},
   "outputs": [
    {
     "data": {
      "text/html": [
       "<div>\n",
       "<style>\n",
       "    .dataframe thead tr:only-child th {\n",
       "        text-align: right;\n",
       "    }\n",
       "\n",
       "    .dataframe thead th {\n",
       "        text-align: left;\n",
       "    }\n",
       "\n",
       "    .dataframe tbody tr th {\n",
       "        vertical-align: top;\n",
       "    }\n",
       "</style>\n",
       "<table border=\"1\" class=\"dataframe\">\n",
       "  <thead>\n",
       "    <tr style=\"text-align: right;\">\n",
       "      <th></th>\n",
       "      <th>artistname</th>\n",
       "      <th>artistid</th>\n",
       "      <th>Total tracks</th>\n",
       "    </tr>\n",
       "  </thead>\n",
       "  <tbody>\n",
       "    <tr>\n",
       "      <th>0</th>\n",
       "      <td>Ella Fitzgerald</td>\n",
       "      <td>133</td>\n",
       "      <td>1260</td>\n",
       "    </tr>\n",
       "    <tr>\n",
       "      <th>1</th>\n",
       "      <td>Party Tyme Karaoke</td>\n",
       "      <td>420803</td>\n",
       "      <td>809</td>\n",
       "    </tr>\n",
       "    <tr>\n",
       "      <th>2</th>\n",
       "      <td>Billie Holiday</td>\n",
       "      <td>49</td>\n",
       "      <td>765</td>\n",
       "    </tr>\n",
       "    <tr>\n",
       "      <th>3</th>\n",
       "      <td>Neil Diamond</td>\n",
       "      <td>35</td>\n",
       "      <td>603</td>\n",
       "    </tr>\n",
       "    <tr>\n",
       "      <th>4</th>\n",
       "      <td>Kiss</td>\n",
       "      <td>298</td>\n",
       "      <td>600</td>\n",
       "    </tr>\n",
       "  </tbody>\n",
       "</table>\n",
       "</div>"
      ],
      "text/plain": [
       "           artistname  artistid  Total tracks\n",
       "0     Ella Fitzgerald       133          1260\n",
       "1  Party Tyme Karaoke    420803           809\n",
       "2      Billie Holiday        49           765\n",
       "3        Neil Diamond        35           603\n",
       "4                Kiss       298           600"
      ]
     },
     "execution_count": 41,
     "metadata": {},
     "output_type": "execute_result"
    }
   ],
   "source": [
    "artists = pd.read_csv('Artists.csv')\n",
    "artists.head()"
   ]
  },
  {
   "cell_type": "code",
   "execution_count": null,
   "metadata": {
    "collapsed": true
   },
   "outputs": [],
   "source": [
    "genres = ['rap', 'jazz', 'classical', 'rock',]"
   ]
  },
  {
   "cell_type": "code",
   "execution_count": 46,
   "metadata": {},
   "outputs": [
    {
     "name": "stdout",
     "output_type": "stream",
     "text": [
      "Ella Jane Fitzgerald  (April 25, 1917 – June 15, 1996) was an American jazz singer sometimes referred to as the First Lady of Song, Queen of Jazz, and Lady Ella. She was noted for her purity of tone, impeccable diction, phrasing, intonation, and a \"horn-like\" improvisational ability, particularly in her scat singing.\n",
      "After tumultuous teenage years, Fitzgerald found stability in musical success with the Chick Webb Orchestra, performing across the country but most often associated with the Savoy Ballroom in Harlem. Fitzgerald's rendition of the nursery rhyme \"A-Tisket, A-Tasket\" helped boost both her and Webb to national fame. After taking over the band when Webb died, Fitzgerald left it behind in 1942 to start her solo career.\n",
      "Her manager was Moe Gale, co-founder of the Savoy, until she turned the rest of her career over to Norman Granz, who founded Verve Records to produce new records by Fitzgerald. With Verve she recorded some of her more widely noted works, particularly her interpretations of the Great American Songbook.\n",
      "While Fitzgerald appeared in movies and as a guest on popular television shows in the second half of the twentieth century, her musical collaborations with Louis Armstrong, Duke Ellington, and The Ink Spots were some of her most notable acts outside of her solo career. These partnerships produced some of her best-known songs such as \"Dream a Little Dream of Me\", \"Cheek to Cheek\", \"Into Each Life Some Rain Must Fall\", and \"It Don't Mean a Thing (If It Ain't Got That Swing)\". \n",
      "In 1993, she ended her nearly 60-year career with her last public performance. Three years later, she died at the age of 79 after years of declining health. Her accolades included fourteen Grammy Awards, the National Medal of Arts, and the Presidential Medal of Freedom.\n",
      "\n",
      "\n",
      "== Early life ==\n",
      "Fitzgerald was born on April 25, 1917, in Newport News, Virginia. She was the daughter of William Fitzgerald and Temperance \"Tempie\" Henry. Her parents were unmarried but lived together for at least two and a half years after she was born. In the early 1920s, Fitzgerald's mother and her new partner, a Portuguese immigrant named Joseph Da Silva, moved to Yonkers, in Westchester County, New York, as part of the first Great Migration of African Americans. Initially living in a single room, her mother and Da Silva soon found jobs. Her half-sister, Frances Da Silva, was born in 1923. By 1925, Fitzgerald and her family had moved to nearby School Street, a poor Italian area. She began her formal education at the age of six and was an outstanding student, moving through a variety of schools before attending Benjamin Franklin Junior High School in 1929.Starting in third grade, Fitzgerald loved dancing and admired Earl Snakehips Tucker. She performed for her peers on the way to school and at lunchtime. She and her family were Methodists and were active in the Bethany African Methodist Episcopal Church. She regularly attended worship services, Bible study, and Sunday school. The church provided Fitzgerald with her earliest experiences in music. She may also have had a short series of piano lessons during this period.Fitzgerald listened to jazz recordings by Louis Armstrong, Bing Crosby, and The Boswell Sisters. She idolized the Boswell Sisters' lead singer Connee Boswell, later saying, \"My mother brought home one of her records, and I fell in love with it...I tried so hard to sound just like her.\"In 1932, when Fitzgerald was fifteen, her mother died from injuries received in a car accident. Her stepfather took care of her until April 1933 when she moved to Harlem to live with her aunt. This seemingly swift change in her circumstances, reinforced by what Fitzgerald biographer Stuart Nicholson describes as rumors of  \"ill treatment\" by her stepfather, leaves him to speculate that Da Silva might have abused her.Fitzgerald began skipping school, and her grades suffered. She worked as a lookout at a bordello and with a Mafia-affiliated numbers runner. She never talked publicly about this time in her life. When the authorities caught up with her, she was placed in the Colored Orphan Asylum in Riverdale in the Bronx. When the orphanage proved too crowded, she was moved to the New York Training School for Girls, a state reformatory school in Hudson, New York. Eventually she escaped, and for a time she was homeless.\n",
      "\n",
      "\n",
      "== Early career ==\n",
      "\n",
      "While she seems to have survived during 1933 and 1934 in part from singing on the streets of Harlem, Fitzgerald made her most important debut at age 17 on November 21, 1934, in one of the earliest Amateur Nights at the Apollo Theater. She had intended to go on stage and dance, but she was intimidated by a local dance duo called the Edwards Sisters and opted to sing instead. Performing in the style of Connee Boswell, she sang \"Judy\" and \"The Object of My Affection\" and won first prize. She won the chance to perform at the Apollo for a week but, seemingly because of her disheveled appearance, the theater never gave her that part of her prize.In January 1935, Fitzgerald won the chance to perform for a week with the Tiny Bradshaw band at the Harlem Opera House. She was introduced to drummer and bandleader Chick Webb, who had asked his recently signed singer Charlie Linton to help find him a female singer. Alhough Webb was \"reluctant to sign her...because she was gawky and unkempt, a 'diamond in the rough,'\" he offered her the opportunity to test with his band when they played a dance at Yale University.Met with approval by both audiences and her fellow musicians, Fitzgerald was asked to join Webb's orchestra and gained acclaim as part of the group's performances at Harlem's Savoy Ballroom. Fitzgerald recorded several hit songs, including \"Love and Kisses\" and \"(If You Can't Sing It) You'll Have to Swing It (Mr. Paganini)\". But it was her 1938 version of the nursery rhyme, \"A-Tisket, A-Tasket\", a song she co-wrote, that brought her public acclaim. \"A-Tisket, A-Tasket\" became a major hit on the radio and was also one of the biggest-selling records of the decade.Webb died of spinal tuberculosis on June 16, 1939, and his band was renamed Ella and Her Famous Orchestra with Fitzgerald taking on the role of bandleader. She recorded nearly 150 songs with Webb's orchestra between 1935 and 1942. In The New York Times obituary of 1996, Stephen Holder wrote that \"the majority\" of her recordings during this period were \"novelties and disposable pop fluff\". In addition to her work with Webb, Fitzgerald performed and recorded with the Benny Goodman Orchestra. She had her own side project, too, known as Ella Fitzgerald and Her Savoy Eight.\n",
      "\n",
      "\n",
      "== Decca years ==\n",
      "\n",
      "In 1942, Fitzgerald left the band to begin a solo career. While working for Decca Records, she had hits with Bill Kenny & the Ink Spots, Louis Jordan, and the Delta Rhythm Boys. Producer Norman Granz became her manager in the mid-1940s after she began singing for Jazz at the Philharmonic, a concert series begun by Granz.\n",
      "With the demise of the Swing era and the decline of the great touring big bands, a major change in jazz music occurred. The advent of bebop led to new developments in Fitzgerald's vocal style, influenced by her work with Dizzy Gillespie's big band. It was in this period that Fitzgerald started including scat singing as a major part of her performance repertoire. While singing with Gillespie, Fitzgerald recalled, \"I just tried to do [with my voice] what I heard the horns in the band doing.\"Her 1945 scat recording of \"Flying Home\" arranged by Vic Schoen would later be described by The New York Times as \"one of the most influential vocal jazz records of the decade....Where other singers, most notably Louis Armstrong, had tried similar improvisation, no one before Miss Fitzgerald employed the technique with such dazzling inventiveness.\" Her bebop recording of \"Oh, Lady Be Good!\" (1947) was similarly popular and increased her reputation as one of the leading jazz vocalists.\n",
      "\n",
      "\n",
      "== Verve years ==\n",
      "Fitzgerald made her first tour of Australia in July 1954 for the Australian-based American promoter Lee Gordon. This was the first of Gordon's famous \"Big Show\" promotions and the 'package' tour also included Buddy Rich, Artie Shaw and comedian Jerry Colonna. Although the tour was a big hit with audiences and set a new box office record for Australia, it was marred by an incident of racial discrimination that caused Fitzgerald to miss the first two concerts in Sydney, and Gordon had to arrange two later free concerts to compensate ticket holders. Although the four members of Fitzgerald's entourage – Fitzgerald, her pianist John Lewis, her assistant (and cousin) Georgiana Henry, and manager Norman Granz – all had first-class tickets on their scheduled Pan-American Airlines flight from Honolulu to Sydney, Fitzgerald, Henry and Lewis were ordered to leave the aircraft after they had already boarded and they were refused permission to re-board the aircraft to retrieve their luggage and clothing, and as a result they were stranded in Honolulu for three days before they could get another flight to Sydney. Although a contemporary Australian press report quoted an Australian Pan-Am spokesperson who denied that the incident was racially based, Fitzgerald, Henry, Lewis and Granz filed a civil suit for racial discrimination against Pan-Am in December 1954 and in a 1970 television interview Fitzgerald confirmed that they had won the suit and received what she described as a \"nice settlement\".Fitzgerald was still performing at Granz's JATP concerts by 1955. She left Decca and Granz, now her manager, created Verve Records around her. She later described the period as strategically crucial, saying, \"I had gotten to the point where I was only singing be-bop. I thought be-bop was 'it', and that all I had to do was go some place and sing bop. But it finally got to the point where I had no place to sing. I realized then that there was more to music than bop. Norman ... felt that I should do other things, so he produced Ella Fitzgerald Sings the Cole Porter Song Book with me. It was a turning point in my life.\"On March 15, 1955, Ella Fitzgerald opened her initial engagement at the Mocambo nightclub in Hollywood, after Marilyn Monroe lobbied the owner for the booking. The booking was instrumental in Fitzgerald's career. Bonnie Greer dramatized the incident as the musical drama, Marilyn and Ella, in 2008. It had previously been widely reported that Fitzgerald was the first black performer to play the Mocambo, following Monroe's intervention, but this is not true. African-American singers Herb Jeffries, Eartha Kitt, and Joyce Bryant all played the Mocambo in 1952 and 1953, according to stories published at the time in Jet magazine and Billboard.\n",
      "Ella Fitzgerald Sings the Cole Porter Song Book, released in 1956, was the first of eight Song Book sets Fitzgerald would record for Verve at irregular intervals from 1956 to 1964. The composers and lyricists spotlighted on each set, taken together, represent the greatest part of the cultural canon known as the Great American Songbook. Her song selections ranged from standards to rarities and represented an attempt by Fitzgerald to cross over into a non-jazz audience. The sets are the most well-known items in her discography.\n",
      "\n",
      "Ella Fitzgerald Sings the Duke Ellington Song Book was the only Song Book on which the composer she interpreted played with her. Duke Ellington and his longtime collaborator Billy Strayhorn both appeared on exactly half the set's 38 tracks and wrote two new pieces of music for the album: \"The E and D Blues\" and a four-movement musical portrait of Fitzgerald (the only Song Book track on which Fitzgerald does not sing). The Song Book series ended up becoming the singer's most critically acclaimed and commercially successful work, and probably her most significant offering to American culture. The New York Times wrote in 1996, \"These albums were among the first pop records to devote such serious attention to individual songwriters, and they were instrumental in establishing the pop album as a vehicle for serious musical exploration.\"Days after Fitzgerald's death, The New York Times columnist Frank Rich wrote that in the Song Book series Fitzgerald \"performed a cultural transaction as extraordinary as Elvis' contemporaneous integration of white and African American soul. Here was a black woman popularizing urban songs often written by immigrant Jews to a national audience of predominantly white Christians.\" Frank Sinatra, out of respect for Fitzgerald, prohibited Capitol Records from re-releasing his own recordings in separate albums for individual composers in the same way.Fitzgerald also recorded albums exclusively devoted to the songs of Porter and Gershwin in 1972 and 1983; the albums being, respectively, Ella Loves Cole and Nice Work If You Can Get It. A later collection devoted to a single composer was released during her time with Pablo Records, Ella Abraça Jobim, featuring the songs of Antônio Carlos Jobim.\n",
      "While recording the Song Books and the occasional studio album, Fitzgerald toured 40 to 45 weeks per year in the United States and internationally, under the tutelage of Norman Granz. Granz helped solidify her position as one of the leading live jazz performers. In 1961 Fitzgerald bought a house in the Klampenborg district of Copenhagen, Denmark, after she began a relationship with a Danish man. Though the relationship ended after a year, Fitzgerald regularly returned to Denmark over the next three years, and even considered buying a jazz club there. The house was sold in 1963, and Fitzgerald permanently returned to the United States.There are several live albums on Verve that are highly regarded by critics. At the Opera House shows a typical JATP set from Fitzgerald. Ella in Rome and Twelve Nights in Hollywood display her vocal jazz canon. Ella in Berlin is still one of her best-selling albums; it includes a Grammy-winning performance of \"Mack the Knife\" in which she forgets the lyrics but improvises magnificently to compensate.\n",
      "Verve Records was sold to MGM in 1963 for $3 million and in 1967 MGM failed to renew Fitzgerald's contract. Over the next five years she flitted between Atlantic, Capitol and Reprise. Her material at this time represented a departure from her typical jazz repertoire. For Capitol she recorded Brighten the Corner, an album of hymns, Ella Fitzgerald's Christmas, an album of traditional Christmas carols, Misty Blue, a country and western-influenced album, and 30 by Ella, a series of six medleys that fulfilled her obligations for the label. During this period, she had her last US chart single with a cover of Smokey Robinson's \"Get Ready\", previously a hit for the Temptations, and some months later a top-five hit for Rare Earth.\n",
      "The surprise success of the 1972 album Jazz at Santa Monica Civic '72 led Granz to found Pablo Records, his first record label since the sale of Verve. Fitzgerald recorded some 20 albums for the label. Ella in London recorded live in 1974 with pianist Tommy Flanagan, guitarist Joe Pass, bassist Keter Betts and drummer Bobby Durham, was considered by many to be some of her best work. The following year she again performed with Joe Pass on German television station NDR in Hamburg. Her years with Pablo Records also documented the decline in her voice. \"She frequently used shorter, stabbing phrases, and her voice was harder, with a wider vibrato\", one biographer wrote. Plagued by health problems, Fitzgerald made her last recording in 1991 and her last public performances in 1993.\n",
      "\n",
      "\n",
      "== Film and television ==\n",
      "\n",
      "In her most notable screen role, Fitzgerald played the part of singer Maggie Jackson in Jack Webb's 1955 jazz film Pete Kelly's Blues. The film costarred Janet Leigh and singer Peggy Lee. Even though she had already worked in the movies (she had sung briefly in the 1942 Abbott and Costello film Ride 'Em Cowboy), she was \"delighted\" when Norman Granz negotiated the role for her, and, \"at the time...considered her role in the Warner Brothers movie the biggest thing ever to have happened to her.\" Amid The New York Times pan of the film when it opened in August 1955, the reviewer wrote, \"About five minutes (out of ninety-five) suggest the picture this might have been. Take the ingenious prologue ... [or] take the fleeting scenes when the wonderful Ella Fitzgerald, allotted a few spoken lines, fills the screen and sound track with her strong mobile features and voice.\"Fitzgerald's race precluded major big-screen success. After Pete Kelly's Blues, she appeared in sporadic movie cameos, in St. Louis Blues (1958) and Let No Man Write My Epitaph (1960).She made numerous guest appearances on television shows, singing on The Frank Sinatra Show, The Andy Williams Show, The Pat Boone Chevy Showroom, and alongside other greats Nat King Cole, Dean Martin, Mel Tormé, and many others. She was also frequently featured on The Ed Sullivan Show. Perhaps her most unusual and intriguing performance was of the \"Three Little Maids\" song from Gilbert and Sullivan's comic operetta The Mikado alongside Joan Sutherland and Dinah Shore on Shore's weekly variety series in 1963. A performance at Ronnie Scott's Jazz Club in London was filmed and shown on the BBC. Fitzgerald also made a one-off appearance alongside Sarah Vaughan and Pearl Bailey on a 1979 television special honoring Bailey. In 1980, she performed a medley of standards in a duet with Karen Carpenter on the Carpenters' television program Music, Music, Music.Fitzgerald also appeared in TV commercials, her most memorable being an ad for Memorex. In the commercials, she sang a note that shattered a glass while being recorded on a Memorex cassette tape. The tape was played back and the recording also broke another glass, asking: \"Is it live, or is it Memorex?\" She also appeared in a number of commercials for Kentucky Fried Chicken, singing and scatting to the fast-food chain's longtime slogan, \"We do chicken right!\" Her last commercial campaign was for American Express, in which she was photographed by Annie Leibovitz.\n",
      "\n",
      "\n",
      "== Collaborations ==\n",
      "Fitzgerald's most famous collaborations were with the vocal quartet Bill Kenny & the Ink Spots, trumpeter Louis Armstrong, the guitarist Joe Pass, and the bandleaders Count Basie and Duke Ellington.\n",
      "\n",
      "From 1943 to 1950, Fitzgerald recorded seven songs with the Ink Spots featuring Bill Kenny. Out of all seven recordings, four reached the top of the pop charts including \"I'm Making Believe\" and \"Into Each Life Some Rain Must Fall\" which both reached #1.\n",
      "Fitzgerald recorded three Verve studio albums with Louis Armstrong, two albums of standards (1956's Ella and Louis and 1957's Ella and Louis Again), and a third album featured music from the Gershwin musical Porgy and Bess. Fitzgerald also recorded a number of sides with Armstrong for Decca in the early 1950s.\n",
      "Fitzgerald is sometimes referred to as the quintessential swing singer, and her meetings with Count Basie are highly regarded by critics. Fitzgerald features on one track on Basie's 1957 album One O'Clock Jump, while her 1963 album Ella and Basie! is remembered as one of her greatest recordings. With the 'New Testament' Basie band in full swing, and arrangements written by a young Quincy Jones, this album proved a respite from the 'Song Book' recordings and constant touring that Fitzgerald was engaged in during this period. Fitzgerald and Basie also collaborated on the 1972 album Jazz at Santa Monica Civic '72, and on the 1979 albums Digital III at Montreux, A Classy Pair and A Perfect Match.\n",
      "Fitzgerald and Joe Pass recorded four albums together toward the end of Fitzgerald's career. She recorded several albums with piano accompaniment, but a guitar proved the perfect melodic foil for her. Fitzgerald and Pass appeared together on the albums Take Love Easy (1973), Easy Living (1986), Speak Love (1983) and Fitzgerald and Pass... Again (1976).\n",
      "Fitzgerald and Duke Ellington recorded two live albums and two studio albums. Her Duke Ellington Song Book placed Ellington firmly in the canon known as the Great American Songbook, and the 1960s saw Fitzgerald and the 'Duke' meet on the Côte d'Azur for the 1966 album Ella and Duke at the Cote D'Azur, and in Sweden for The Stockholm Concert, 1966. Their 1965 album Ella at Duke's Place is also extremely well received.Fitzgerald had a number of famous jazz musicians and soloists as sidemen over her long career. The trumpeters Roy Eldridge and Dizzy Gillespie, the guitarist Herb Ellis, and the pianists Tommy Flanagan, Oscar Peterson, Lou Levy, Paul Smith, Jimmy Rowles, and Ellis Larkins all worked with Ella mostly in live, small group settings.\n",
      "Possibly Fitzgerald's greatest unrealized collaboration (in terms of popular music) was a studio or live album with Frank Sinatra. The two appeared on the same stage only periodically over the years, in television specials in 1958 and 1959, and again on 1967's A Man and His Music + Ella + Jobim, a show that also featured Antônio Carlos Jobim. Pianist Paul Smith has said, \"Ella loved working with [Frank]. Sinatra gave her his dressing-room on A Man and His Music and couldn't do enough for her.\" When asked, Norman Granz would cite \"complex contractual reasons\" for the fact that the two artists never recorded together. Fitzgerald's appearance with Sinatra and Count Basie in June 1974 for a series of concerts at Caesars Palace, Las Vegas, was seen as an important incentive for Sinatra to return from his self-imposed retirement of the early 1970s. The shows were a great success, and September 1975 saw them gross $1,000,000 in two weeks on Broadway, in a triumvirate with the Count Basie Orchestra.\n",
      "\n",
      "\n",
      "== Illness and death ==\n",
      "Fitzgerald had suffered from diabetes for several years of her later life, which had led to numerous complications. In 1985, Fitzgerald was hospitalized briefly for respiratory problems, in 1986 for congestive heart failure, and in 1990 for exhaustion. In March 1990 she appeared at the Royal Albert Hall in London, England with the Count Basie Orchestra for the launch of Jazz FM, plus a gala dinner at the Grosvenor House Hotel at which she performed.  In 1993, she had to have both of her legs amputated below the knee due to the effects of diabetes. Her eyesight was affected as well.In 1996, tired of being in the hospital, she wished to spend her last days at home. Confined to a wheelchair, she spent her final days in her backyard of her Beverly Hills mansion on Whittier, with her son Ray and 12-year-old granddaughter, Alice. \"I just want to smell the air, listen to the birds and hear Alice laugh,\" she reportedly said. On her last day, she was wheeled outside one last time, and sat there for about an hour. When she was taken back in, she looked up with a soft smile on her face and said, \"I'm ready to go now.\" She died in her home from a stroke on June 15, 1996 at the age of 79. A few hours after her death, the Playboy Jazz Festival was launched at the Hollywood Bowl. In tribute, the marquee read: \"Ella We Will Miss You.\" Her funeral was private, and she was buried at Inglewood Park Cemetery in Los Angeles.\n",
      "\n",
      "\n",
      "== Personal life ==\n",
      "Fitzgerald married at least twice, and there is evidence that suggests that she may have married a third time. Her first marriage was in 1941, to Benny Kornegay, a convicted drug dealer and local dockworker. The marriage was annulled in 1942.Her second marriage was in December 1947, to the famous bass player Ray Brown, whom she had met while on tour with Dizzy Gillespie's band a year earlier. Together they adopted a child born to Fitzgerald's half-sister, Frances, whom they christened Ray Brown Jr. With Fitzgerald and Brown often busy touring and recording, the child was largely raised by his mother's aunt, Virginia. Fitzgerald and Brown divorced in 1953, bowing to the various career pressures both were experiencing at the time, though they would continue to perform together.In July 1957, Reuters reported that Fitzgerald had secretly married Thor Einar Larsen, a young Norwegian, in Oslo. She had even gone as far as furnishing an apartment in Oslo, but the affair was quickly forgotten when Larsen was sentenced to five months' hard labor in Sweden for stealing money from a young woman to whom he had previously been engaged.Fitzgerald was notoriously shy. Trumpet player Mario Bauzá, who played behind Fitzgerald in her early years with Chick Webb, remembered that \"she didn't hang out much. When she got into the band, she was dedicated to her music....She was a lonely girl around New York, just kept herself to herself, for the gig.\" When, later in her career, the Society of Singers named an award after her, Fitzgerald explained, \"I don't want to say the wrong thing, which I always do but I think I do better when I sing.\"From 1949 to 1956, Fitzgerald resided in St. Albans, New York, an enclave of prosperous African Americans where she counted among her neighbors, Fats Waller, Count Basie, Lena Horne, and other jazz luminaries.Fitzgerald was a civil rights activist; using her talent to break racial barriers across the nation. She was awarded the National Association for the Advancement of Colored People Equal Justice Award and the American Black Achievement Award. In 1949, Norman Granz recruited Fitzgerald for the Jazz at the Philharmonic tour. The Jazz at the Philharmonic tour would specifically target segregated venues. Granz required promoters to ensure that there was no \"colored\" or \"white\" seating. He ensured Fitzgerald was to receive equal pay and accommodations regardless of her sex, race, and identity. If the conditions were not met shows were cancelled.Bill Reed, author of Hot from Harlem: Twelve African American Entertainers, referred to Fitzgerald as the \"Civil Rights Crusader\", facing discrimination throughout her career. In 1954 on her way to one of her concerts in Australia she was unable to board the Pan American flight due to racial discrimination. Although she faced several obstacles and racial barriers, she was recognized as a \"cultural ambassador,\" receiving the National Medal of Arts in 1987 and America's highest non-military honor, the Presidential Medal of Freedom.In 1993, Fitzgerald established the Ella Fitzgerald Charitable Foundation focusing on charitable grants for four major categories: academic opportunities for children, music education, basic care needs for the less fortunate, medical research revolving around diabetes, heart disease, and vision impaired. Her goals were to give back and provide opportunities for those \"at risk\" and less fortunate. In addition, she supported several nonprofit organizations like the American Heart Association, City of Hope, and the Retina Foundation.\n",
      "\n",
      "\n",
      "== Discography and collections ==\n",
      "\n",
      "The primary collections of Fitzgerald's media and memorabilia reside at and are shared between the Smithsonian Institution and the US Library of Congress\n",
      "\n",
      "\n",
      "=== Awards, citations and honors ===\n",
      "\n",
      "Fitzgerald won thirteen Grammy Awards, and received the Grammy Lifetime Achievement Award in 1967.In 1958 Fitzgerald was the first African American female to win at the inaugural show.Other major awards and honors she received during her career were the Kennedy Center for the Performing Arts Medal of Honor Award, National Medal of Art, first Society of Singers Lifetime Achievement Award, named \"Ella\" in her honor, Presidential Medal of Freedom, and the George and Ira Gershwin Award for Lifetime Musical Achievement, UCLA Spring Sing, and the UCLA Medal (1987). Across town at the University of Southern California, she received the USC \"Magnum Opus\" Award which hangs in the office of the Ella Fitzgerald Charitable Foundation. In 1990, she received an honorary doctorate of Music from Harvard University.\n",
      "\n",
      "\n",
      "== Tributes and legacy ==\n",
      "\n",
      "The career history and archival material from Fitzgerald's long career are housed in the Archives Center at the Smithsonian's National Museum of American History, while her personal music arrangements are at the Library of Congress. Her extensive cookbook collection was donated to the Schlesinger Library at Harvard University, and her extensive collection of published sheet music was donated to UCLA.\n",
      "In 1997, Newport News, Virginia created a week-long music festival with Christopher Newport University to honor Fitzgerald in her birth city.\n",
      "Callaway, Dee Dee Bridgewater, and Patti Austin have all recorded albums in tribute to Fitzgerald. Callaway's album To Ella with Love (1996) features fourteen jazz standards made popular by Fitzgerald, and the album also features the trumpeter Wynton Marsalis. Bridgewater's album Dear Ella (1997) featured many musicians that were closely associated with Fitzgerald during her career, including the pianist Lou Levy, the trumpeter Benny Powell, and Fitzgerald's second husband, double bassist Ray Brown. Bridgewater's following album, Live at Yoshi's, was recorded live on April 25, 1998, what would have been Fitzgerald's 81st birthday.\n",
      "Austin's album, For Ella (2002) features 11 songs most immediately associated with Fitzgerald, and a twelfth song, \"Hearing Ella Sing\" is Austin's tribute to Fitzgerald. The album was nominated for a Grammy. In 2007, We All Love Ella, was released, a tribute album recorded for the 90th anniversary of Fitzgerald's birth. It featured artists such as Michael Bublé, Natalie Cole, Chaka Khan, Gladys Knight, Diana Krall, k.d. lang, Queen Latifah, Ledisi, Dianne Reeves, Linda Ronstadt, and Lizz Wright, collating songs most readily associated with the \"First Lady of Song\". Folk singer Odetta's album To Ella (1998) is dedicated to Fitzgerald, but features no songs associated with her. Her accompanist Tommy Flanagan affectionately remembered Fitzgerald on his album Lady be Good ... For Ella (1994).\n",
      "\"Ella, elle l'a\", a tribute to Fitzgerald written by Michel Berger and performed by French singer France Gall, was a hit in Europe in 1987 and 1988. Fitzgerald is also referred to in the 1976 Stevie Wonder hit \"Sir Duke\" from his album Songs in the Key of Life, and the song \"I Love Being Here With You\", written by Peggy Lee and Bill Schluger. Sinatra's 1986 recording of \"Mack the Knife\" from his album L.A. Is My Lady (1984) includes a homage to some of the song's previous performers, including 'Lady Ella' herself. She is also honored in the song \"First Lady\" by Canadian artist Nikki Yanofsky.\n",
      "In 2008, the Downing-Gross Cultural Arts Center in Newport News named its brand new 276-seat theater the Ella Fitzgerald Theater. The theater is located several blocks away from her birthplace on Marshall Avenue. The Grand Opening performers ( October 11 and 12, 2008) were Roberta Flack and Queen Esther Marrow.\n",
      "In 2012, Rod Stewart performed a \"virtual duet\" with Ella Fitzgerald on his Christmas album Merry Christmas, Baby, and his television special of the same name.There is a bronze sculpture of Fitzgerald in Yonkers, the city in which she grew up, created by American artist Vinnie Bagwell. It is located southeast of the main entrance to the Amtrak/Metro-North Railroad station in front of the city's old trolley barn. A bust of Fitzgerald is on the campus of Chapman University in Orange, California. On January 9, 2007, the United States Postal Service announced that Fitzgerald would be honored with her own postage stamp. The stamp was released in April 2007 as part of the Postal Service's Black Heritage series.In April 2013, she was featured in Google Doodle, depicting her performing on stage. It celebrated what would have been her 96th birthday.On April 25, 2017, the centenary of her birth, UK's BBC Radio 2 broadcast three programmes as part of an \"Ella at 100\" celebration: Ella Fitzgerald Night introduced by Jamie Cullum, Remembering Ella introduced by Leo Green and Ella Fitzgerald - the First Lady of Song introduced by Petula Clark.\n",
      "\n",
      "\n",
      "== References ==\n",
      "\n",
      "General\n",
      "\n",
      "\n",
      "== Further reading ==\n",
      "Gourse, Leslie. (1998) The Ella Fitzgerald Companion: Seven Decades of Commentary. Music Sales Ltd.; ISBN 0-02-864625-8\n",
      "Johnson, J. Wilfred. (2001) Ella Fitzgerald: A Complete Annotated Discography. McFarland & Co Inc.; ISBN 0-7864-0906-1\n",
      "\n",
      "\n",
      "== External links ==\n",
      "\n",
      "Official website\n",
      "Ella Fitzgerald on IMDb\n",
      "Ella Fitzgerald at the Internet Broadway Database \n",
      "Ella Fitzgerald at Find a Grave\n",
      "Ella Fitzgerald at the Library of Congress\n",
      "'Remembering Ella' by Phillip D. Atteberry\n",
      "Listen to Big Band Serenade podcast, episode 6 Includes complete NBC remote broadcast of \"Ella Fitzgerald & her Orchestra\" from the Roseland Ballroom (or download)\n"
     ]
    },
    {
     "ename": "PageError",
     "evalue": "Page id \"party type karaoke\" does not match any pages. Try another id!",
     "output_type": "error",
     "traceback": [
      "\u001b[0;31m---------------------------------------------------------------------------\u001b[0m",
      "\u001b[0;31mPageError\u001b[0m                                 Traceback (most recent call last)",
      "\u001b[0;32m<ipython-input-46-747d03eec952>\u001b[0m in \u001b[0;36m<module>\u001b[0;34m()\u001b[0m\n\u001b[1;32m      1\u001b[0m \u001b[0;32mfor\u001b[0m \u001b[0mi\u001b[0m \u001b[0;32min\u001b[0m \u001b[0mrange\u001b[0m\u001b[0;34m(\u001b[0m\u001b[0mlen\u001b[0m\u001b[0;34m(\u001b[0m\u001b[0martists\u001b[0m\u001b[0;34m)\u001b[0m\u001b[0;34m)\u001b[0m\u001b[0;34m:\u001b[0m\u001b[0;34m\u001b[0m\u001b[0m\n\u001b[1;32m      2\u001b[0m     \u001b[0mresult\u001b[0m \u001b[0;34m=\u001b[0m\u001b[0martists\u001b[0m\u001b[0;34m.\u001b[0m\u001b[0miloc\u001b[0m\u001b[0;34m[\u001b[0m\u001b[0mi\u001b[0m\u001b[0;34m]\u001b[0m\u001b[0;34m[\u001b[0m\u001b[0;34m'artistname'\u001b[0m\u001b[0;34m]\u001b[0m\u001b[0;34m\u001b[0m\u001b[0m\n\u001b[0;32m----> 3\u001b[0;31m     \u001b[0mres\u001b[0m \u001b[0;34m=\u001b[0m \u001b[0mwikipedia\u001b[0m\u001b[0;34m.\u001b[0m\u001b[0mpage\u001b[0m\u001b[0;34m(\u001b[0m\u001b[0mresult\u001b[0m\u001b[0;34m)\u001b[0m\u001b[0;34m\u001b[0m\u001b[0m\n\u001b[0m\u001b[1;32m      4\u001b[0m     \u001b[0mprint\u001b[0m\u001b[0;34m(\u001b[0m\u001b[0mres\u001b[0m\u001b[0;34m.\u001b[0m\u001b[0mcontent\u001b[0m\u001b[0;34m)\u001b[0m\u001b[0;34m\u001b[0m\u001b[0m\n",
      "\u001b[0;32m~/anaconda3/lib/python3.6/site-packages/wikipedia/wikipedia.py\u001b[0m in \u001b[0;36mpage\u001b[0;34m(title, pageid, auto_suggest, redirect, preload)\u001b[0m\n\u001b[1;32m    274\u001b[0m         \u001b[0;31m# if there is no suggestion or search results, the page doesn't exist\u001b[0m\u001b[0;34m\u001b[0m\u001b[0;34m\u001b[0m\u001b[0m\n\u001b[1;32m    275\u001b[0m         \u001b[0;32mraise\u001b[0m \u001b[0mPageError\u001b[0m\u001b[0;34m(\u001b[0m\u001b[0mtitle\u001b[0m\u001b[0;34m)\u001b[0m\u001b[0;34m\u001b[0m\u001b[0m\n\u001b[0;32m--> 276\u001b[0;31m     \u001b[0;32mreturn\u001b[0m \u001b[0mWikipediaPage\u001b[0m\u001b[0;34m(\u001b[0m\u001b[0mtitle\u001b[0m\u001b[0;34m,\u001b[0m \u001b[0mredirect\u001b[0m\u001b[0;34m=\u001b[0m\u001b[0mredirect\u001b[0m\u001b[0;34m,\u001b[0m \u001b[0mpreload\u001b[0m\u001b[0;34m=\u001b[0m\u001b[0mpreload\u001b[0m\u001b[0;34m)\u001b[0m\u001b[0;34m\u001b[0m\u001b[0m\n\u001b[0m\u001b[1;32m    277\u001b[0m   \u001b[0;32melif\u001b[0m \u001b[0mpageid\u001b[0m \u001b[0;32mis\u001b[0m \u001b[0;32mnot\u001b[0m \u001b[0;32mNone\u001b[0m\u001b[0;34m:\u001b[0m\u001b[0;34m\u001b[0m\u001b[0m\n\u001b[1;32m    278\u001b[0m     \u001b[0;32mreturn\u001b[0m \u001b[0mWikipediaPage\u001b[0m\u001b[0;34m(\u001b[0m\u001b[0mpageid\u001b[0m\u001b[0;34m=\u001b[0m\u001b[0mpageid\u001b[0m\u001b[0;34m,\u001b[0m \u001b[0mpreload\u001b[0m\u001b[0;34m=\u001b[0m\u001b[0mpreload\u001b[0m\u001b[0;34m)\u001b[0m\u001b[0;34m\u001b[0m\u001b[0m\n",
      "\u001b[0;32m~/anaconda3/lib/python3.6/site-packages/wikipedia/wikipedia.py\u001b[0m in \u001b[0;36m__init__\u001b[0;34m(self, title, pageid, redirect, preload, original_title)\u001b[0m\n\u001b[1;32m    297\u001b[0m       \u001b[0;32mraise\u001b[0m \u001b[0mValueError\u001b[0m\u001b[0;34m(\u001b[0m\u001b[0;34m\"Either a title or a pageid must be specified\"\u001b[0m\u001b[0;34m)\u001b[0m\u001b[0;34m\u001b[0m\u001b[0m\n\u001b[1;32m    298\u001b[0m \u001b[0;34m\u001b[0m\u001b[0m\n\u001b[0;32m--> 299\u001b[0;31m     \u001b[0mself\u001b[0m\u001b[0;34m.\u001b[0m\u001b[0m__load\u001b[0m\u001b[0;34m(\u001b[0m\u001b[0mredirect\u001b[0m\u001b[0;34m=\u001b[0m\u001b[0mredirect\u001b[0m\u001b[0;34m,\u001b[0m \u001b[0mpreload\u001b[0m\u001b[0;34m=\u001b[0m\u001b[0mpreload\u001b[0m\u001b[0;34m)\u001b[0m\u001b[0;34m\u001b[0m\u001b[0m\n\u001b[0m\u001b[1;32m    300\u001b[0m \u001b[0;34m\u001b[0m\u001b[0m\n\u001b[1;32m    301\u001b[0m     \u001b[0;32mif\u001b[0m \u001b[0mpreload\u001b[0m\u001b[0;34m:\u001b[0m\u001b[0;34m\u001b[0m\u001b[0m\n",
      "\u001b[0;32m~/anaconda3/lib/python3.6/site-packages/wikipedia/wikipedia.py\u001b[0m in \u001b[0;36m__load\u001b[0;34m(self, redirect, preload)\u001b[0m\n\u001b[1;32m    343\u001b[0m     \u001b[0;32mif\u001b[0m \u001b[0;34m'missing'\u001b[0m \u001b[0;32min\u001b[0m \u001b[0mpage\u001b[0m\u001b[0;34m:\u001b[0m\u001b[0;34m\u001b[0m\u001b[0m\n\u001b[1;32m    344\u001b[0m       \u001b[0;32mif\u001b[0m \u001b[0mhasattr\u001b[0m\u001b[0;34m(\u001b[0m\u001b[0mself\u001b[0m\u001b[0;34m,\u001b[0m \u001b[0;34m'title'\u001b[0m\u001b[0;34m)\u001b[0m\u001b[0;34m:\u001b[0m\u001b[0;34m\u001b[0m\u001b[0m\n\u001b[0;32m--> 345\u001b[0;31m         \u001b[0;32mraise\u001b[0m \u001b[0mPageError\u001b[0m\u001b[0;34m(\u001b[0m\u001b[0mself\u001b[0m\u001b[0;34m.\u001b[0m\u001b[0mtitle\u001b[0m\u001b[0;34m)\u001b[0m\u001b[0;34m\u001b[0m\u001b[0m\n\u001b[0m\u001b[1;32m    346\u001b[0m       \u001b[0;32melse\u001b[0m\u001b[0;34m:\u001b[0m\u001b[0;34m\u001b[0m\u001b[0m\n\u001b[1;32m    347\u001b[0m         \u001b[0;32mraise\u001b[0m \u001b[0mPageError\u001b[0m\u001b[0;34m(\u001b[0m\u001b[0mpageid\u001b[0m\u001b[0;34m=\u001b[0m\u001b[0mself\u001b[0m\u001b[0;34m.\u001b[0m\u001b[0mpageid\u001b[0m\u001b[0;34m)\u001b[0m\u001b[0;34m\u001b[0m\u001b[0m\n",
      "\u001b[0;31mPageError\u001b[0m: Page id \"party type karaoke\" does not match any pages. Try another id!"
     ]
    }
   ],
   "source": [
    "for i in range(len(artists)):\n",
    "    result =artists.iloc[i]['artistname']\n",
    "    res = wikipedia.page(result)\n",
    "    print(res.content)"
   ]
  },
  {
   "cell_type": "code",
   "execution_count": null,
   "metadata": {
    "collapsed": true
   },
   "outputs": [],
   "source": []
  }
 ],
 "metadata": {
  "kernelspec": {
   "display_name": "Python 3",
   "language": "python",
   "name": "python3"
  },
  "language_info": {
   "codemirror_mode": {
    "name": "ipython",
    "version": 3
   },
   "file_extension": ".py",
   "mimetype": "text/x-python",
   "name": "python",
   "nbconvert_exporter": "python",
   "pygments_lexer": "ipython3",
   "version": "3.6.3"
  }
 },
 "nbformat": 4,
 "nbformat_minor": 2
}
